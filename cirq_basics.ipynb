{
 "cells": [
  {
   "cell_type": "code",
   "execution_count": 11,
   "metadata": {},
   "outputs": [],
   "source": [
    "# !pip3 install --upgrade pip\n",
    "# %pip install cirq\n",
    "# %pip install cirq_google"
   ]
  },
  {
   "cell_type": "code",
   "execution_count": 26,
   "metadata": {},
   "outputs": [],
   "source": [
    "import cirq\n",
    "import cirq_google\n",
    "import networkx as nx\n",
    "import matplotlib.pyplot as plt\n",
    "import sympy"
   ]
  },
  {
   "cell_type": "code",
   "execution_count": 8,
   "metadata": {},
   "outputs": [],
   "source": [
    "# Using named qubits can be useful for abstract algorithms\n",
    "# as well as algorithms not yet mapped onto hardware.\n",
    "q0 = cirq.NamedQubit('source')\n",
    "q1 = cirq.NamedQubit('target')\n",
    "\n",
    "# Line qubits can be created individually\n",
    "q3 = cirq.LineQubit(3)\n",
    "\n",
    "# Or created in a range\n",
    "# This will create LineQubit(0), LineQubit(1), LineQubit(2)\n",
    "q0, q1, q2 = cirq.LineQubit.range(3)\n",
    "\n",
    "# Grid Qubits can also be referenced individually\n",
    "q4_5 = cirq.GridQubit(4, 5)\n",
    "\n",
    "# Or created in bulk in a square\n",
    "# This will create 16 qubits from (0,0) to (3,3)\n",
    "qubits = cirq.GridQubit.square(4)"
   ]
  },
  {
   "cell_type": "code",
   "execution_count": 14,
   "metadata": {},
   "outputs": [
    {
     "name": "stdout",
     "output_type": "stream",
     "text": [
      "                                             (0, 5)───(0, 6)\n",
      "                                             │        │\n",
      "                                             │        │\n",
      "                                    (1, 4)───(1, 5)───(1, 6)───(1, 7)\n",
      "                                    │        │        │        │\n",
      "                                    │        │        │        │\n",
      "                           (2, 3)───(2, 4)───(2, 5)───(2, 6)───(2, 7)───(2, 8)\n",
      "                           │        │        │        │        │        │\n",
      "                           │        │        │        │        │        │\n",
      "                  (3, 2)───(3, 3)───(3, 4)───(3, 5)───(3, 6)───(3, 7)───(3, 8)───(3, 9)\n",
      "                  │        │        │        │        │        │        │        │\n",
      "                  │        │        │        │        │        │        │        │\n",
      "         (4, 1)───(4, 2)───(4, 3)───(4, 4)───(4, 5)───(4, 6)───(4, 7)───(4, 8)───(4, 9)\n",
      "         │        │        │        │        │        │        │        │\n",
      "         │        │        │        │        │        │        │        │\n",
      "(5, 0)───(5, 1)───(5, 2)───(5, 3)───(5, 4)───(5, 5)───(5, 6)───(5, 7)───(5, 8)\n",
      "         │        │        │        │        │        │        │\n",
      "         │        │        │        │        │        │        │\n",
      "         (6, 1)───(6, 2)───(6, 3)───(6, 4)───(6, 5)───(6, 6)───(6, 7)\n",
      "                  │        │        │        │        │\n",
      "                  │        │        │        │        │\n",
      "                  (7, 2)───(7, 3)───(7, 4)───(7, 5)───(7, 6)\n",
      "                           │        │        │\n",
      "                           │        │        │\n",
      "                           (8, 3)───(8, 4)───(8, 5)\n",
      "                                    │\n",
      "                                    │\n",
      "                                    (9, 4)\n"
     ]
    }
   ],
   "source": [
    "print(cirq_google.Sycamore)"
   ]
  },
  {
   "cell_type": "code",
   "execution_count": 15,
   "metadata": {},
   "outputs": [],
   "source": [
    "# Example gates\n",
    "cnot_gate = cirq.CNOT\n",
    "pauli_z = cirq.Z\n",
    "\n",
    "# Use exponentiation to get square root gates.\n",
    "sqrt_x_gate = cirq.X**0.5\n",
    "\n",
    "# Some gates can also take parameters\n",
    "sqrt_sqrt_y = cirq.YPowGate(exponent=0.25)\n",
    "\n",
    "# Create two qubits at once, in a line.\n",
    "q0, q1 = cirq.LineQubit.range(2)\n",
    "\n",
    "# Example operations\n",
    "z_op = cirq.Z(q0)\n",
    "not_op = cirq.CNOT(q0, q1)\n",
    "sqrt_iswap_op = cirq.SQRT_ISWAP(q0, q1)\n",
    "\n",
    "# You can also use the gates you specified earlier.\n",
    "cnot_op = cnot_gate(q0, q1)\n",
    "pauli_z_op = pauli_z(q0)\n",
    "sqrt_x_op = sqrt_x_gate(q0)\n",
    "sqrt_sqrt_y_op = sqrt_sqrt_y(q0)"
   ]
  },
  {
   "cell_type": "code",
   "execution_count": 17,
   "metadata": {},
   "outputs": [
    {
     "name": "stdout",
     "output_type": "stream",
     "text": [
      "0: ───H───\n",
      "\n",
      "1: ───H───\n",
      "\n",
      "2: ───Z───\n"
     ]
    }
   ],
   "source": [
    "circuit = cirq.Circuit()\n",
    "qubits = cirq.LineQubit.range(3)\n",
    "circuit.append(cirq.H(qubits[0]))\n",
    "circuit.append(cirq.H(qubits[1]))\n",
    "circuit.append(cirq.Z(qubits[2]))\n",
    "print(circuit)"
   ]
  },
  {
   "cell_type": "code",
   "execution_count": 18,
   "metadata": {},
   "outputs": [
    {
     "name": "stdout",
     "output_type": "stream",
     "text": [
      "0: ───H───\n",
      "\n",
      "1: ───H───\n",
      "\n",
      "2: ───H───\n"
     ]
    }
   ],
   "source": [
    "circuit = cirq.Circuit()\n",
    "ops = [cirq.H(q) for q in cirq.LineQubit.range(3)]\n",
    "circuit.append(ops)\n",
    "print(circuit)"
   ]
  },
  {
   "cell_type": "code",
   "execution_count": 19,
   "metadata": {},
   "outputs": [
    {
     "name": "stdout",
     "output_type": "stream",
     "text": [
      "0: ───×───────────\n",
      "      │\n",
      "1: ───×───×───────\n",
      "          │\n",
      "2: ───────×───×───\n",
      "              │\n",
      "3: ───────────×───\n"
     ]
    }
   ],
   "source": [
    "print(cirq.Circuit(cirq.SWAP(q, q + 1) for q in cirq.LineQubit.range(3)))"
   ]
  },
  {
   "cell_type": "code",
   "execution_count": 20,
   "metadata": {},
   "outputs": [
    {
     "name": "stdout",
     "output_type": "stream",
     "text": [
      "0: ───H───────────\n",
      "\n",
      "1: ───────H───────\n",
      "\n",
      "2: ───────────H───\n"
     ]
    }
   ],
   "source": [
    "# Creates each gate in a separate moment by passing an iterable of Moments instead of Operations.\n",
    "print(cirq.Circuit(cirq.Moment([cirq.H(q)]) for q in cirq.LineQubit.range(3)))"
   ]
  },
  {
   "cell_type": "code",
   "execution_count": 21,
   "metadata": {},
   "outputs": [
    {
     "name": "stdout",
     "output_type": "stream",
     "text": [
      "Qubit pair is not valid on device: (cirq.GridQubit(5, 6), cirq.GridQubit(4, 5)).\n"
     ]
    }
   ],
   "source": [
    "# Create some qubits.\n",
    "q0 = cirq.GridQubit(5, 6)\n",
    "q1 = cirq.GridQubit(5, 5)\n",
    "q2 = cirq.GridQubit(4, 5)\n",
    "\n",
    "# Create operations using the Sycamore gate, which is supported by the Sycamore device.\n",
    "# However, create operations for both adjacent and non-adjacent qubit pairs.\n",
    "adjacent_op = cirq_google.SYC(q0, q1)\n",
    "nonadjacent_op = cirq_google.SYC(q0, q2)\n",
    "\n",
    "# A working circuit for the Sycamore device raises no issues.\n",
    "working_circuit = cirq.Circuit()\n",
    "working_circuit.append(adjacent_op)\n",
    "valid = cirq_google.Sycamore.validate_circuit(working_circuit)\n",
    "\n",
    "# A circuit using invalid operations.\n",
    "bad_circuit = cirq.Circuit()\n",
    "bad_circuit.append(nonadjacent_op)\n",
    "try:\n",
    "    cirq_google.Sycamore.validate_circuit(bad_circuit)\n",
    "except ValueError as e:\n",
    "    print(e)"
   ]
  },
  {
   "cell_type": "code",
   "execution_count": 22,
   "metadata": {},
   "outputs": [
    {
     "name": "stdout",
     "output_type": "stream",
     "text": [
      "Simulate the circuit:\n",
      "measurements: (no measurements)\n",
      "\n",
      "qubits: (cirq.LineQubit(0), cirq.LineQubit(1))\n",
      "output vector: 0.707|00⟩ + 0.707|11⟩\n",
      "\n",
      "phase:\n",
      "output vector: |⟩\n"
     ]
    }
   ],
   "source": [
    "# Create a circuit to generate a Bell State:\n",
    "# 1/sqrt(2) * ( |00⟩ + |11⟩ )\n",
    "bell_circuit = cirq.Circuit()\n",
    "q0, q1 = cirq.LineQubit.range(2)\n",
    "bell_circuit.append(cirq.H(q0))\n",
    "bell_circuit.append(cirq.CNOT(q0, q1))\n",
    "\n",
    "# Initialize Simulator\n",
    "s = cirq.Simulator()\n",
    "\n",
    "print('Simulate the circuit:')\n",
    "results = s.simulate(bell_circuit)\n",
    "print(results)\n",
    "\n",
    "# For sampling, we need to add a measurement at the end\n",
    "bell_circuit.append(cirq.measure(q0, q1, key='result'))\n",
    "\n",
    "# Sample the circuit\n",
    "samples = s.run(bell_circuit, repetitions=1000)"
   ]
  },
  {
   "cell_type": "code",
   "execution_count": 24,
   "metadata": {},
   "outputs": [
    {
     "data": {
      "image/png": "[encoded data removed]",
      "text/plain": [
       "<Figure size 640x480 with 1 Axes>"
      ]
     },
     "metadata": {},
     "output_type": "display_data"
    }
   ],
   "source": [
    "cirq.plot_state_histogram(samples, plt.subplot())\n",
    "plt.show()"
   ]
  },
  {
   "cell_type": "code",
   "execution_count": 25,
   "metadata": {},
   "outputs": [
    {
     "name": "stdout",
     "output_type": "stream",
     "text": [
      "Counter({0: 506, 3: 494})\n"
     ]
    },
    {
     "data": {
      "image/png": "[encoded data removed]",
      "text/plain": [
       "<Figure size 640x480 with 1 Axes>"
      ]
     },
     "metadata": {},
     "output_type": "display_data"
    }
   ],
   "source": [
    "# Pull of histogram counts from the result data structure\n",
    "counts = samples.histogram(key='result')\n",
    "print(counts)\n",
    "\n",
    "# Graph the histogram counts instead of the results\n",
    "cirq.plot_state_histogram(counts, plt.subplot())\n",
    "plt.show()"
   ]
  },
  {
   "cell_type": "code",
   "execution_count": 27,
   "metadata": {},
   "outputs": [
    {
     "data": {
      "image/png": "[encoded data removed]",
      "text/plain": [
       "<Figure size 640x480 with 1 Axes>"
      ]
     },
     "metadata": {},
     "output_type": "display_data"
    }
   ],
   "source": [
    "# Perform an X gate with variable exponent\n",
    "q = cirq.GridQubit(1, 1)\n",
    "circuit = cirq.Circuit(cirq.X(q) ** sympy.Symbol('t'), cirq.measure(q, key='m'))\n",
    "\n",
    "# Sweep exponent from zero (off) to one (on) and back to two (off)\n",
    "param_sweep = cirq.Linspace('t', start=0, stop=2, length=200)\n",
    "\n",
    "# Simulate the sweep\n",
    "s = cirq.Simulator()\n",
    "trials = s.run_sweep(circuit, param_sweep, repetitions=1000)\n",
    "\n",
    "# Plot all the results\n",
    "x_data = [trial.params['t'] for trial in trials]\n",
    "y_data = [trial.histogram(key='m')[1] / 1000.0 for trial in trials]\n",
    "plt.scatter('t', 'p', data={'t': x_data, 'p': y_data})\n",
    "plt.xlabel(\"trials\")\n",
    "plt.ylabel(\"frequency of qubit measured to be one\")\n",
    "plt.show()"
   ]
  },
  {
   "cell_type": "code",
   "execution_count": 28,
   "metadata": {},
   "outputs": [
    {
     "name": "stdout",
     "output_type": "stream",
     "text": [
      "Unitary of the X gate\n",
      "[[0.+0.j 1.+0.j]\n",
      " [1.+0.j 0.+0.j]]\n",
      "Unitary of SWAP operator on two qubits.\n",
      "[[1.+0.j 0.+0.j 0.+0.j 0.+0.j]\n",
      " [0.+0.j 0.+0.j 1.+0.j 0.+0.j]\n",
      " [0.+0.j 1.+0.j 0.+0.j 0.+0.j]\n",
      " [0.+0.j 0.+0.j 0.+0.j 1.+0.j]]\n",
      "Unitary of a sample circuit\n",
      "[[0.+0.j 0.+0.j 1.+0.j 0.+0.j]\n",
      " [1.+0.j 0.+0.j 0.+0.j 0.+0.j]\n",
      " [0.+0.j 0.+0.j 0.+0.j 1.+0.j]\n",
      " [0.+0.j 1.+0.j 0.+0.j 0.+0.j]]\n"
     ]
    }
   ],
   "source": [
    "print('Unitary of the X gate')\n",
    "print(cirq.unitary(cirq.X))\n",
    "\n",
    "print('Unitary of SWAP operator on two qubits.')\n",
    "q0, q1 = cirq.LineQubit.range(2)\n",
    "print(cirq.unitary(cirq.SWAP(q0, q1)))\n",
    "\n",
    "print('Unitary of a sample circuit')\n",
    "print(cirq.unitary(cirq.Circuit(cirq.X(q0), cirq.SWAP(q0, q1))))"
   ]
  },
  {
   "cell_type": "code",
   "execution_count": 29,
   "metadata": {},
   "outputs": [
    {
     "name": "stdout",
     "output_type": "stream",
     "text": [
      "[(cirq.Y**0.5).on(cirq.LineQubit(0)), cirq.XPowGate(global_shift=-0.25).on(cirq.LineQubit(0))]\n"
     ]
    }
   ],
   "source": [
    "print(cirq.decompose(cirq.H(cirq.LineQubit(0))))"
   ]
  },
  {
   "cell_type": "code",
   "execution_count": 30,
   "metadata": {},
   "outputs": [
    {
     "name": "stdout",
     "output_type": "stream",
     "text": [
      "0: ───T────────────────@─────────────────────────────────@─────────────────────────────@────────────────────────────@───────────────────────────────────────\n",
      "                       │                                 │                             │                            │\n",
      "1: ───T───────Y^-0.5───@───Y^0.5────@───T^-1────Y^-0.5───@────────Y^0.5───@───Y^-0.5───@──────Y^0.5────@───Y^-0.5───@──────Y^0.5────@───────────────────────\n",
      "                                    │                                     │                            │                            │\n",
      "2: ───Y^0.5───X────────T───Y^-0.5───@───Y^0.5───T────────Y^-0.5───────────@───Y^0.5────T^-1───Y^-0.5───@───Y^0.5────T^-1───Y^-0.5───@───Y^0.5───Y^0.5───X───\n"
     ]
    }
   ],
   "source": [
    "q0, q1, q2 = cirq.LineQubit.range(3)\n",
    "print(cirq.Circuit(cirq.decompose(cirq.TOFFOLI(q0, q1, q2))))"
   ]
  },
  {
   "cell_type": "code",
   "execution_count": 31,
   "metadata": {},
   "outputs": [
    {
     "name": "stdout",
     "output_type": "stream",
     "text": [
      "(1, 1): ───X^0.25───Y^0.25───T───\n",
      "(1, 1): ───PhXZ(a=0.304,x=0.333,z=0.142)───\n"
     ]
    }
   ],
   "source": [
    "q = cirq.GridQubit(1, 1)\n",
    "c = cirq.Circuit(cirq.X(q) ** 0.25, cirq.Y(q) ** 0.25, cirq.Z(q) ** 0.25)\n",
    "print(c)\n",
    "c = cirq.merge_single_qubit_gates_to_phxz(c)\n",
    "print(c)"
   ]
  }
 ],
 "metadata": {
  "kernelspec": {
   "display_name": "Python 3",
   "language": "python",
   "name": "python3"
  },
  "language_info": {
   "codemirror_mode": {
    "name": "ipython",
    "version": 3
   },
   "file_extension": ".py",
   "mimetype": "text/x-python",
   "name": "python",
   "nbconvert_exporter": "python",
   "pygments_lexer": "ipython3",
   "version": "3.11.6"
  }
 },
 "nbformat": 4,
 "nbformat_minor": 2
}
