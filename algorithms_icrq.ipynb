{
 "cells": [
  {
   "cell_type": "code",
   "execution_count": 1,
   "metadata": {},
   "outputs": [],
   "source": [
    "import cirq\n",
    "import random\n",
    "import matplotlib.pyplot as plt\n",
    "import numpy as np"
   ]
  },
  {
   "cell_type": "code",
   "execution_count": 2,
   "metadata": {},
   "outputs": [],
   "source": [
    "def make_quantum_teleportation_circuit(gate):\n",
    "    \"\"\"Returns a circuit for quantum teleportation.\n",
    "\n",
    "    This circuit 'teleports' a random qubit state prepared by\n",
    "    the input gate from Alice to Bob.\n",
    "    \"\"\"\n",
    "    circuit = cirq.Circuit()\n",
    "\n",
    "    # Get the three qubits involved in the teleportation protocol.\n",
    "    msg = cirq.NamedQubit(\"Message\")\n",
    "    alice = cirq.NamedQubit(\"Alice\")\n",
    "    bob = cirq.NamedQubit(\"Bob\")\n",
    "\n",
    "    # The input gate prepares the message to send.\n",
    "    circuit.append(gate(msg))\n",
    "\n",
    "    # Create a Bell state shared between Alice and Bob.\n",
    "    circuit.append([cirq.H(alice), cirq.CNOT(alice, bob)])\n",
    "\n",
    "    # Bell measurement of the Message and Alice's entangled qubit.\n",
    "    circuit.append([cirq.CNOT(msg, alice), cirq.H(msg), cirq.measure(msg, alice)])\n",
    "\n",
    "    # Uses the two classical bits from the Bell measurement to recover the\n",
    "    # original quantum message on Bob's entangled qubit.\n",
    "    circuit.append([cirq.CNOT(alice, bob), cirq.CZ(msg, bob)])\n",
    "\n",
    "    return circuit"
   ]
  },
  {
   "cell_type": "code",
   "execution_count": 3,
   "metadata": {},
   "outputs": [
    {
     "name": "stdout",
     "output_type": "stream",
     "text": [
      "Teleportation circuit:\n",
      "\n",
      "Alice: ─────H────────@───X───────M───@───────\n",
      "                     │   │       │   │\n",
      "Bob: ────────────────X───┼───────┼───X───@───\n",
      "                         │       │       │\n",
      "Message: ───X^0.25───────@───H───M───────@───\n"
     ]
    }
   ],
   "source": [
    "\"\"\"Visualize the teleportation circuit.\"\"\"\n",
    "# Gate to put the message qubit in some state to send.\n",
    "gate = cirq.X ** 0.25\n",
    "\n",
    "# Create the teleportation circuit.\n",
    "circuit = make_quantum_teleportation_circuit(gate)\n",
    "print(\"Teleportation circuit:\\n\")\n",
    "print(circuit)"
   ]
  },
  {
   "cell_type": "code",
   "execution_count": 4,
   "metadata": {},
   "outputs": [
    {
     "name": "stdout",
     "output_type": "stream",
     "text": [
      "Bloch vector of message qubit:\n",
      "[ 0.    -0.707  0.707]\n"
     ]
    }
   ],
   "source": [
    "\"\"\"Display the Bloch vector of the message qubit.\"\"\"\n",
    "message = cirq.Circuit(gate.on(cirq.NamedQubit(\"Message\"))).final_state_vector()\n",
    "message_bloch_vector = cirq.bloch_vector_from_state_vector(message, index=0)\n",
    "print(\"Bloch vector of message qubit:\")\n",
    "print(np.round(message_bloch_vector, 3))"
   ]
  },
  {
   "cell_type": "code",
   "execution_count": 5,
   "metadata": {},
   "outputs": [
    {
     "name": "stdout",
     "output_type": "stream",
     "text": [
      "Bloch vector of Bob's qubit:\n",
      "[ 0.    -0.707  0.707]\n"
     ]
    }
   ],
   "source": [
    "\"\"\"Simulate the teleportation circuit and get the final state of Bob's qubit.\"\"\"\n",
    "# Get a simulator.\n",
    "sim = cirq.Simulator()\n",
    "\n",
    "# Simulate the teleportation circuit.\n",
    "result = sim.simulate(circuit)\n",
    "\n",
    "# Get the Bloch vector of Bob's qubit.\n",
    "bobs_bloch_vector = cirq.bloch_vector_from_state_vector(result.final_state_vector, index=1)\n",
    "print(\"Bloch vector of Bob's qubit:\")\n",
    "print(np.round(bobs_bloch_vector, 3))\n",
    "\n",
    "# Verify they are the same state!\n",
    "np.testing.assert_allclose(bobs_bloch_vector, message_bloch_vector, atol=1e-6)"
   ]
  },
  {
   "cell_type": "code",
   "execution_count": 6,
   "metadata": {},
   "outputs": [],
   "source": [
    "def make_qft(qubits):\n",
    "    \"\"\"Generator for the QFT on a list of qubits.\"\"\"\n",
    "    qreg = list(qubits)\n",
    "    while len(qreg) > 0:\n",
    "        q_head = qreg.pop(0)\n",
    "        yield cirq.H(q_head)\n",
    "        for i, qubit in enumerate(qreg):\n",
    "            yield (cirq.CZ ** (1 / 2 ** (i + 1)))(qubit, q_head)"
   ]
  },
  {
   "cell_type": "code",
   "execution_count": 7,
   "metadata": {},
   "outputs": [
    {
     "name": "stdout",
     "output_type": "stream",
     "text": [
      "                  ┌───────┐   ┌────────────┐   ┌───────┐\n",
      "0: ───H───@────────@───────────@───────────────────────────────────────\n",
      "          │        │           │\n",
      "1: ───────@^0.5────┼─────H─────┼──────@─────────@──────────────────────\n",
      "                   │           │      │         │\n",
      "2: ────────────────@^0.25──────┼──────@^0.5─────┼─────H────@───────────\n",
      "                               │                │          │\n",
      "3: ────────────────────────────@^(1/8)──────────@^0.25─────@^0.5───H───\n",
      "                  └───────┘   └────────────┘   └───────┘\n"
     ]
    }
   ],
   "source": [
    "\"\"\"Visually check the QFT circuit.\"\"\"\n",
    "qubits = cirq.LineQubit.range(4)\n",
    "qft = cirq.Circuit(make_qft(qubits))\n",
    "print(qft)"
   ]
  },
  {
   "cell_type": "code",
   "execution_count": 8,
   "metadata": {},
   "outputs": [
    {
     "name": "stdout",
     "output_type": "stream",
     "text": [
      "0: ───qft[norev]───\n",
      "      │\n",
      "1: ───#2───────────\n",
      "      │\n",
      "2: ───#3───────────\n",
      "      │\n",
      "3: ───#4───────────\n"
     ]
    }
   ],
   "source": [
    "\"\"\"Use the built-in QFT in Cirq.\"\"\"\n",
    "qft_operation = cirq.qft(*qubits, without_reverse=True)\n",
    "qft_cirq = cirq.Circuit(qft_operation)\n",
    "print(qft_cirq)"
   ]
  },
  {
   "cell_type": "code",
   "execution_count": 9,
   "metadata": {},
   "outputs": [],
   "source": [
    "\"\"\"Check equality of the 'manual' and 'built-in' QFTs.\"\"\"\n",
    "np.testing.assert_allclose(cirq.unitary(qft), cirq.unitary(qft_cirq))"
   ]
  },
  {
   "cell_type": "code",
   "execution_count": 10,
   "metadata": {},
   "outputs": [],
   "source": [
    "def make_qft_inverse(qubits):\n",
    "    \"\"\"Generator for the inverse QFT on a list of qubits.\"\"\"\n",
    "    qreg = list(qubits)[::-1]\n",
    "    while len(qreg) > 0:\n",
    "        q_head = qreg.pop(0)\n",
    "        yield cirq.H(q_head)\n",
    "        for i, qubit in enumerate(qreg):\n",
    "            yield (cirq.CZ ** (-1 / 2 ** (i + 1)))(qubit, q_head)"
   ]
  },
  {
   "cell_type": "code",
   "execution_count": 11,
   "metadata": {},
   "outputs": [
    {
     "name": "stdout",
     "output_type": "stream",
     "text": [
      "                   ┌────────┐   ┌──────────────┐   ┌────────┐\n",
      "0: ──────────────────────────────@──────────────────@───────────@────────H───\n",
      "                                 │                  │           │\n",
      "1: ─────────────────@────────────┼───────@──────────┼──────H────@^-0.5───────\n",
      "                    │            │       │          │\n",
      "2: ───────@─────────┼──────H─────┼───────@^-0.5─────@^-0.25──────────────────\n",
      "          │         │            │\n",
      "3: ───H───@^-0.5────@^-0.25──────@^(-1/8)────────────────────────────────────\n",
      "                   └────────┘   └──────────────┘   └────────┘\n"
     ]
    }
   ],
   "source": [
    "\"\"\"Visually check the inverse QFT circuit.\"\"\"\n",
    "qubits = cirq.LineQubit.range(4)\n",
    "iqft = cirq.Circuit(make_qft_inverse(qubits))\n",
    "print(iqft)"
   ]
  },
  {
   "cell_type": "code",
   "execution_count": 12,
   "metadata": {},
   "outputs": [
    {
     "name": "stdout",
     "output_type": "stream",
     "text": [
      "0: ───qft[norev]^-1───\n",
      "      │\n",
      "1: ───#2──────────────\n",
      "      │\n",
      "2: ───#3──────────────\n",
      "      │\n",
      "3: ───#4──────────────\n"
     ]
    }
   ],
   "source": [
    "\"\"\"Use the built-in inverse QFT in Cirq.\"\"\"\n",
    "iqft_operation = cirq.qft(*qubits, inverse=True, without_reverse=True)\n",
    "iqft_cirq = cirq.Circuit(iqft_operation)\n",
    "print(iqft_cirq)"
   ]
  },
  {
   "cell_type": "code",
   "execution_count": 13,
   "metadata": {},
   "outputs": [],
   "source": [
    "\"\"\"Check equality of the 'manual' and 'built-in' inverse QFTs.\"\"\"\n",
    "np.testing.assert_allclose(cirq.unitary(iqft), cirq.unitary(iqft_cirq))"
   ]
  },
  {
   "cell_type": "code",
   "execution_count": 14,
   "metadata": {},
   "outputs": [],
   "source": [
    "\"\"\"Set up the unitary and number of bits to use in phase estimation.\"\"\"\n",
    "# Value of θ which appears in the definition of the unitary U above.\n",
    "# Try different values.\n",
    "theta = 0.234\n",
    "\n",
    "# Define the unitary U.\n",
    "U = cirq.Z ** (2 * theta)\n",
    "\n",
    "# Accuracy of the estimate for theta. Try different values.\n",
    "n_bits = 3"
   ]
  },
  {
   "cell_type": "code",
   "execution_count": 15,
   "metadata": {},
   "outputs": [
    {
     "name": "stdout",
     "output_type": "stream",
     "text": [
      "0: ───H───@──────────────────────────────\n",
      "          │\n",
      "1: ───H───┼──────────@───────────────────\n",
      "          │          │\n",
      "2: ───H───┼──────────┼─────────@─────────\n",
      "          │          │         │\n",
      "u: ───────Z^-0.128───Z^0.936───Z^0.468───\n"
     ]
    }
   ],
   "source": [
    "\"\"\"Build the first part of the circuit for phase estimation.\"\"\"\n",
    "# Get qubits for the phase estimation circuit.\n",
    "qubits = cirq.LineQubit.range(n_bits)\n",
    "u_bit = cirq.NamedQubit('u')\n",
    "\n",
    "# Build the first part of the phase estimation circuit.\n",
    "phase_estimator = cirq.Circuit(cirq.H.on_each(*qubits))\n",
    "\n",
    "for i, bit in enumerate(qubits):\n",
    "    phase_estimator.append(cirq.ControlledGate(U).on(bit, u_bit) ** (2 ** (n_bits - i - 1)))\n",
    "\n",
    "print(phase_estimator)"
   ]
  },
  {
   "cell_type": "code",
   "execution_count": 16,
   "metadata": {},
   "outputs": [
    {
     "name": "stdout",
     "output_type": "stream",
     "text": [
      "                                         ┌────────┐\n",
      "0: ───H───@──────────H─────────@──────────@────────────────────────M('m')───\n",
      "          │                    │          │                        │\n",
      "1: ───H───┼──────────@─────────@^-0.5─────┼──────H────@────────────M────────\n",
      "          │          │                    │           │            │\n",
      "2: ───H───┼──────────┼─────────@──────────@^-0.25─────@^-0.5───H───M────────\n",
      "          │          │         │\n",
      "u: ───────Z^-0.128───Z^0.936───Z^0.468──────────────────────────────────────\n",
      "                                         └────────┘\n"
     ]
    }
   ],
   "source": [
    "\"\"\"Build the last part of the circuit (inverse QFT) for phase estimation.\"\"\"\n",
    "# Do the inverse QFT.\n",
    "phase_estimator.append(make_qft_inverse(qubits[::-1]))\n",
    "\n",
    "# Add measurements to the end of the circuit\n",
    "phase_estimator.append(cirq.measure(*qubits, key='m'))\n",
    "print(phase_estimator)"
   ]
  },
  {
   "cell_type": "code",
   "execution_count": 17,
   "metadata": {},
   "outputs": [
    {
     "name": "stdout",
     "output_type": "stream",
     "text": [
      "                                         ┌────────┐\n",
      "0: ───H───@──────────H─────────@──────────@────────────────────────M('m')───\n",
      "          │                    │          │                        │\n",
      "1: ───H───┼──────────@─────────@^-0.5─────┼──────H────@────────────M────────\n",
      "          │          │                    │           │            │\n",
      "2: ───H───┼──────────┼─────────@──────────@^-0.25─────@^-0.5───H───M────────\n",
      "          │          │         │\n",
      "u: ───X───Z^-0.128───Z^0.936───Z^0.468──────────────────────────────────────\n",
      "                                         └────────┘\n"
     ]
    }
   ],
   "source": [
    "\"\"\"Set the input state of the eigenvalue register.\"\"\"\n",
    "# Add gate to change initial state to |1>.\n",
    "phase_estimator.insert(0, cirq.X(u_bit))\n",
    "\n",
    "print(phase_estimator)"
   ]
  },
  {
   "cell_type": "code",
   "execution_count": 18,
   "metadata": {},
   "outputs": [
    {
     "name": "stdout",
     "output_type": "stream",
     "text": [
      "[0.25 0.5  0.25 0.25 0.25 0.25 0.25 0.25 0.25 0.25]\n"
     ]
    }
   ],
   "source": [
    "\"\"\"Simulate the circuit and convert from measured bit values to estimated θ values.\"\"\"\n",
    "# Simulate the circuit.\n",
    "sim = cirq.Simulator()\n",
    "result = sim.run(phase_estimator, repetitions=10)\n",
    "\n",
    "# Convert from output bitstrings to estimate θ values.\n",
    "theta_estimates = np.sum(2 ** np.arange(n_bits) * result.measurements['m'], axis=1) / 2**n_bits\n",
    "print(theta_estimates)"
   ]
  },
  {
   "cell_type": "code",
   "execution_count": 20,
   "metadata": {},
   "outputs": [],
   "source": [
    "def phase_estimation(theta, n_bits, n_reps=10, prepare_eigenstate_gate=cirq.X):\n",
    "    # Define qubit registers.\n",
    "    qubits = cirq.LineQubit.range(n_bits)\n",
    "    u_bit = cirq.NamedQubit('u')\n",
    "\n",
    "    # Define the unitary U.\n",
    "    U = cirq.Z ** (2 * theta)\n",
    "\n",
    "    # Start with Hadamards on every qubit.\n",
    "    phase_estimator = cirq.Circuit(cirq.H.on_each(*qubits))\n",
    "\n",
    "    # Do the controlled powers of the unitary U.\n",
    "    for i, bit in enumerate(qubits):\n",
    "        phase_estimator.append(cirq.ControlledGate(U).on(bit, u_bit) ** (2 ** (n_bits - 1 - i)))\n",
    "\n",
    "    # Do the inverse QFT.\n",
    "    phase_estimator.append(make_qft_inverse(qubits[::-1]))\n",
    "\n",
    "    # Add measurements.\n",
    "    phase_estimator.append(cirq.measure(*qubits, key='m'))\n",
    "\n",
    "    # Gate to choose the initial state for the u_bit. Placing X here chooses the |1> state.\n",
    "    phase_estimator.insert(0, prepare_eigenstate_gate.on(u_bit))\n",
    "\n",
    "    # Code to simulate measurements\n",
    "    sim = cirq.Simulator()\n",
    "    result = sim.run(phase_estimator, repetitions=n_reps)\n",
    "\n",
    "    # Convert measurements into estimates of theta\n",
    "    theta_estimates = np.sum(2**np.arange(n_bits)*result.measurements['m'], axis=1)/2**n_bits\n",
    "\n",
    "    return theta_estimates"
   ]
  },
  {
   "cell_type": "code",
   "execution_count": 22,
   "metadata": {},
   "outputs": [],
   "source": [
    "\"\"\"Analyze convergence vs n_bits.\"\"\"\n",
    "# Set the value of theta. Try different values.\n",
    "theta = 0.123456\n",
    "\n",
    "max_nvals = 16\n",
    "nvals = np.arange(1, max_nvals, step=1)\n",
    "\n",
    "# Get the estimates at each value of n.\n",
    "estimates = []\n",
    "for n in nvals:\n",
    "    estimate = phase_estimation(theta=theta, n_bits=n, n_reps=1)[0]\n",
    "    estimates.append(estimate)"
   ]
  },
  {
   "cell_type": "code",
   "execution_count": 23,
   "metadata": {},
   "outputs": [
    {
     "data": {
      "image/png": "[encoded data removed]",
      "text/plain": [
       "<Figure size 640x480 with 1 Axes>"
      ]
     },
     "metadata": {},
     "output_type": "display_data"
    }
   ],
   "source": [
    "\"\"\"Plot the results.\"\"\"\n",
    "plt.style.use(\"seaborn-v0_8-whitegrid\")\n",
    "\n",
    "plt.plot(nvals, estimates, \"--o\", label=\"Phase estimation\")\n",
    "plt.axhline(theta, label=\"True value\", color=\"black\")\n",
    "\n",
    "plt.legend()\n",
    "plt.xlabel(\"Number of bits\")\n",
    "plt.ylabel(r\"$\\theta$\");"
   ]
  },
  {
   "cell_type": "code",
   "execution_count": 24,
   "metadata": {},
   "outputs": [
    {
     "name": "stdout",
     "output_type": "stream",
     "text": [
      "[0.    0.    0.125 0.125 0.125 0.125 0.125 0.    0.125 0.125]\n"
     ]
    }
   ],
   "source": [
    "\"\"\"Run phase estimation without starting in an eigenstate.\"\"\"\n",
    "# Value of theta.\n",
    "theta = 0.123456\n",
    "\n",
    "# Number of qubits.\n",
    "n = 4\n",
    "\n",
    "# Run phase estimation starting in the state H|0⟩ = |+⟩.\n",
    "res = phase_estimation(theta=theta, n_bits=n, n_reps=10, prepare_eigenstate_gate=cirq.H)\n",
    "print(res)"
   ]
  },
  {
   "cell_type": "code",
   "execution_count": 25,
   "metadata": {},
   "outputs": [],
   "source": [
    "\"\"\"Get qubits to use in the circuit for Grover's algorithm.\"\"\"\n",
    "# Number of qubits n.\n",
    "nqubits = 2\n",
    "\n",
    "# Get qubit registers.\n",
    "qubits = cirq.LineQubit.range(nqubits)\n",
    "ancilla = cirq.NamedQubit(\"Ancilla\")"
   ]
  },
  {
   "cell_type": "code",
   "execution_count": 26,
   "metadata": {},
   "outputs": [],
   "source": [
    "def make_oracle(qubits, ancilla, xprime):\n",
    "    \"\"\"Implements the function {f(x) = 1 if x == x', f(x) = 0 if x != x'}.\"\"\"\n",
    "    # For x' = (1, 1), the oracle is just a Toffoli gate.\n",
    "    # For a general x', we negate the zero bits and implement a Toffoli.\n",
    "\n",
    "    # Negate zero bits, if necessary.\n",
    "    yield (cirq.X(q) for (q, bit) in zip(qubits, xprime) if not bit)\n",
    "\n",
    "    # Do the Toffoli.\n",
    "    yield (cirq.TOFFOLI(qubits[0], qubits[1], ancilla))\n",
    "\n",
    "    # Negate zero bits, if necessary.\n",
    "    yield (cirq.X(q) for (q, bit) in zip(qubits, xprime) if not bit)"
   ]
  },
  {
   "cell_type": "code",
   "execution_count": 27,
   "metadata": {},
   "outputs": [],
   "source": [
    "def grover_iteration(qubits, ancilla, oracle):\n",
    "    \"\"\"Performs one round of the Grover iteration.\"\"\"\n",
    "    circuit = cirq.Circuit()\n",
    "\n",
    "    # Create an equal superposition over input qubits.\n",
    "    circuit.append(cirq.H.on_each(*qubits))\n",
    "\n",
    "    # Put the output qubit in the |-⟩ state.\n",
    "    circuit.append([cirq.X(ancilla), cirq.H(ancilla)])\n",
    "\n",
    "    # Query the oracle.\n",
    "    circuit.append(oracle)\n",
    "\n",
    "    # Construct Grover operator.\n",
    "    circuit.append(cirq.H.on_each(*qubits))\n",
    "    circuit.append(cirq.X.on_each(*qubits))\n",
    "    circuit.append(cirq.H.on(qubits[1]))\n",
    "    circuit.append(cirq.CNOT(qubits[0], qubits[1]))\n",
    "    circuit.append(cirq.H.on(qubits[1]))\n",
    "    circuit.append(cirq.X.on_each(*qubits))\n",
    "    circuit.append(cirq.H.on_each(*qubits))\n",
    "\n",
    "    # Measure the input register.\n",
    "    circuit.append(cirq.measure(*qubits, key=\"result\"))\n",
    "\n",
    "    return circuit"
   ]
  },
  {
   "cell_type": "code",
   "execution_count": 28,
   "metadata": {},
   "outputs": [
    {
     "name": "stdout",
     "output_type": "stream",
     "text": [
      "Marked bitstring: [1, 0]\n"
     ]
    }
   ],
   "source": [
    "\"\"\"Select a 'marked' bitstring x' at random.\"\"\"\n",
    "xprime = [random.randint(0, 1) for _ in range(nqubits)]\n",
    "print(f\"Marked bitstring: {xprime}\")"
   ]
  },
  {
   "cell_type": "code",
   "execution_count": 29,
   "metadata": {},
   "outputs": [
    {
     "name": "stdout",
     "output_type": "stream",
     "text": [
      "Circuit for Grover's algorithm:\n",
      "0: ─────────H───────@───H───X───────────@───X───H───────M('result')───\n",
      "                    │                   │               │\n",
      "1: ─────────H───X───@───X───H───X───H───X───H───X───H───M─────────────\n",
      "                    │\n",
      "Ancilla: ───X───H───X─────────────────────────────────────────────────\n"
     ]
    }
   ],
   "source": [
    "\"\"\"Create the circuit for Grover's algorithm.\"\"\"\n",
    "# Make oracle (black box)\n",
    "oracle = make_oracle(qubits, ancilla, xprime)\n",
    "\n",
    "# Embed the oracle into a quantum circuit implementing Grover's algorithm.\n",
    "circuit = grover_iteration(qubits, ancilla, oracle)\n",
    "print(\"Circuit for Grover's algorithm:\")\n",
    "print(circuit)"
   ]
  },
  {
   "cell_type": "code",
   "execution_count": 30,
   "metadata": {},
   "outputs": [
    {
     "name": "stdout",
     "output_type": "stream",
     "text": [
      "Sampled results:\n",
      "Counter({'10': 10})\n",
      "\n",
      "Most common bitstring: 10\n",
      "Found a match? True\n"
     ]
    }
   ],
   "source": [
    "\"\"\"Simulate the circuit for Grover's algorithm and check the output.\"\"\"\n",
    "# Helper function.\n",
    "def bitstring(bits):\n",
    "    return \"\".join(str(int(b)) for b in bits)\n",
    "\n",
    "# Sample from the circuit a couple times.\n",
    "simulator = cirq.Simulator()\n",
    "result = simulator.run(circuit, repetitions=10)\n",
    "\n",
    "# Look at the sampled bitstrings.\n",
    "frequencies = result.histogram(key=\"result\", fold_func=bitstring)\n",
    "print('Sampled results:\\n{}'.format(frequencies))\n",
    "\n",
    "# Check if we actually found the secret value.\n",
    "most_common_bitstring = frequencies.most_common(1)[0][0]\n",
    "print(\"\\nMost common bitstring: {}\".format(most_common_bitstring))\n",
    "print(\"Found a match? {}\".format(most_common_bitstring == bitstring(xprime)))"
   ]
  }
 ],
 "metadata": {
  "kernelspec": {
   "display_name": "Python 3",
   "language": "python",
   "name": "python3"
  },
  "language_info": {
   "codemirror_mode": {
    "name": "ipython",
    "version": 3
   },
   "file_extension": ".py",
   "mimetype": "text/x-python",
   "name": "python",
   "nbconvert_exporter": "python",
   "pygments_lexer": "ipython3",
   "version": "3.11.6"
  }
 },
 "nbformat": 4,
 "nbformat_minor": 2
}
